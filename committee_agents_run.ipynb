{
 "cells": [
  {
   "cell_type": "markdown",
   "id": "877db33f",
   "metadata": {},
   "source": [
    "# Симуляция Заседания Кредитного комитета"
   ]
  },
  {
   "cell_type": "code",
   "execution_count": 1,
   "id": "d0a00d33",
   "metadata": {},
   "outputs": [
    {
     "data": {
      "text/plain": [
       "True"
      ]
     },
     "execution_count": 1,
     "metadata": {},
     "output_type": "execute_result"
    }
   ],
   "source": [
    "%load_ext autoreload\n",
    "%autoreload 2\n",
    "import os\n",
    "from dotenv import load_dotenv\n",
    "from langchain_gigachat import GigaChatEmbeddings\n",
    "from langchain_gigachat import GigaChat\n",
    "from prompts import prompts_dict\n",
    "\n",
    "# # в файле .env должны быть следующие переменные окружения\n",
    "# GIGACHAT_CREDENTIALS = ... # для API Гиги\n",
    "# TAVILY_API_KEY = ... # для пользования тулом поиска\n",
    "# # для логирования в LangSmith\n",
    "# LANGCHAIN_TRACING_V2 = 'true'\n",
    "# LANGCHAIN_API_KEY = ...\n",
    "# LANGCHAIN_ENDPOINT = \"https://api.smith.langchain.com\"\n",
    "# LANGCHAIN_PROJECT = \"comitee_agents_test\"\n",
    "\n",
    "load_dotenv()"
   ]
  },
  {
   "cell_type": "markdown",
   "id": "66af8374",
   "metadata": {},
   "source": [
    "## Подготовка"
   ]
  },
  {
   "cell_type": "code",
   "execution_count": 2,
   "id": "484003c1",
   "metadata": {},
   "outputs": [],
   "source": [
    "from IPython.display import display, Markdown\n",
    "\n",
    "def print_md(text):\n",
    "    '''\n",
    "    Для отображения вывода LLM в формате markdown\n",
    "    '''\n",
    "    display(Markdown(text))"
   ]
  },
  {
   "cell_type": "markdown",
   "id": "10c17615",
   "metadata": {},
   "source": [
    "### LLM и эмбеддер"
   ]
  },
  {
   "cell_type": "code",
   "execution_count": 3,
   "id": "42b54fe8",
   "metadata": {},
   "outputs": [],
   "source": [
    "llm = GigaChat(verify_ssl_certs=False, model='GigaChat-Pro', scope=\"GIGACHAT_API_PERS\",\n",
    "               top_p=0.5)\n",
    "embeddings = GigaChatEmbeddings(verify_ssl_certs=False, scope=\"GIGACHAT_API_PERS\")"
   ]
  },
  {
   "cell_type": "code",
   "execution_count": 4,
   "id": "7d45866a",
   "metadata": {},
   "outputs": [
    {
     "data": {
      "text/plain": [
       "AIMessage(content='Здравствуйте! У меня всё отлично, спасибо. Как у вас дела?', additional_kwargs={}, response_metadata={'token_usage': Usage(prompt_tokens=17, completion_tokens=20, total_tokens=37), 'model_name': 'GigaChat-Pro:1.0.26.15', 'finish_reason': 'stop'}, id='run-5ff59101-771d-4b0a-b9ec-9ce345b0f243-0')"
      ]
     },
     "execution_count": 4,
     "metadata": {},
     "output_type": "execute_result"
    }
   ],
   "source": [
    "llm.invoke('Привет, как дела?')"
   ]
  },
  {
   "cell_type": "markdown",
   "id": "3854347a",
   "metadata": {},
   "source": [
    "### Ретривер по документам сделки"
   ]
  },
  {
   "cell_type": "code",
   "execution_count": 5,
   "id": "c13770d7",
   "metadata": {},
   "outputs": [],
   "source": [
    "docs_naming = {\n",
    "    './data/docs/credit_inspection.txt': 'Заключение Кредитного Подразделения',\n",
    "    './data/docs/reputation.txt': 'Заключение Подразделения Безопасности',\n",
    "    './data/docs/prko.txt': 'ПРКО',\n",
    "    './data/docs/law.txt': 'Заключение Юридического Подразделения',\n",
    "    './data/docs/rm_conclusion.txt': 'Заключение Риск-Менеджера'\n",
    "}"
   ]
  },
  {
   "cell_type": "code",
   "execution_count": 6,
   "id": "bbad1d8d",
   "metadata": {},
   "outputs": [],
   "source": [
    "from langchain_community.document_loaders import TextLoader\n",
    "import re\n",
    "\n",
    "docs = []\n",
    "\n",
    "for txt_file_path in docs_naming:\n",
    "    loader = TextLoader(txt_file_path)\n",
    "    file_docs = loader.load()\n",
    "    \n",
    "    for doc in file_docs:\n",
    "        doc.metadata.update({'source_type': docs_naming[txt_file_path]})\n",
    "    \n",
    "    docs.extend(file_docs)"
   ]
  },
  {
   "cell_type": "code",
   "execution_count": 7,
   "id": "aac73ec4",
   "metadata": {},
   "outputs": [
    {
     "name": "stderr",
     "output_type": "stream",
     "text": [
      "/Users/markymark/opt/anaconda3/lib/python3.9/site-packages/huggingface_hub/file_download.py:1142: FutureWarning: `resume_download` is deprecated and will be removed in version 1.0.0. Downloads always resume when possible. If you want to force a new download, use `force_download=True`.\n",
      "  warnings.warn(\n"
     ]
    }
   ],
   "source": [
    "from transformers import AutoTokenizer\n",
    "\n",
    "tokenizer = AutoTokenizer.from_pretrained(\"intfloat/multilingual-e5-large\")"
   ]
  },
  {
   "cell_type": "code",
   "execution_count": 8,
   "id": "0fb1700f",
   "metadata": {},
   "outputs": [
    {
     "name": "stderr",
     "output_type": "stream",
     "text": [
      "Token indices sequence length is longer than the specified maximum sequence length for this model (587 > 512). Running this sequence through the model will result in indexing errors\n"
     ]
    },
    {
     "data": {
      "text/plain": [
       "15"
      ]
     },
     "execution_count": 8,
     "metadata": {},
     "output_type": "execute_result"
    }
   ],
   "source": [
    "from langchain_text_splitters import RecursiveCharacterTextSplitter\n",
    "\n",
    "text_splitter = RecursiveCharacterTextSplitter.from_huggingface_tokenizer(\n",
    "    tokenizer, chunk_size=512, chunk_overlap=128)\n",
    "splitted_docs = text_splitter.split_documents(docs)\n",
    "len(splitted_docs)"
   ]
  },
  {
   "cell_type": "code",
   "execution_count": 9,
   "id": "78e5d223",
   "metadata": {
    "scrolled": true
   },
   "outputs": [],
   "source": [
    "import faiss\n",
    "from langchain_community.docstore.in_memory import InMemoryDocstore\n",
    "from langchain_community.vectorstores import FAISS\n",
    "\n",
    "index = faiss.IndexFlatL2(len(embeddings.embed_query(\"hello world\")))\n",
    "\n",
    "vector_store = FAISS(\n",
    "    embedding_function=embeddings,\n",
    "    index=index,\n",
    "    docstore=InMemoryDocstore(),\n",
    "    index_to_docstore_id={},\n",
    ")\n",
    "vector_store.add_documents(documents=splitted_docs)\n",
    "\n",
    "retriever = vector_store.as_retriever(search_type=\"mmr\", search_kwargs={\"k\": 3})"
   ]
  },
  {
   "cell_type": "markdown",
   "id": "791f1c99",
   "metadata": {},
   "source": [
    "### Инструменты для агентов"
   ]
  },
  {
   "cell_type": "code",
   "execution_count": 10,
   "id": "3d7b4283",
   "metadata": {},
   "outputs": [],
   "source": [
    "from langchain.tools.retriever import create_retriever_tool\n",
    "from langchain_community.tools.tavily_search import TavilySearchResults\n",
    "\n",
    "retriever_tool = create_retriever_tool(\n",
    "    retriever,\n",
    "    \"deal_docs_search\",\n",
    "    \"Содержит данные из полезных для анализа документов о клиенте: \\\n",
    "    заключения служб, информация о клиенте, условиях кредитования.\")\n",
    "search = TavilySearchResults()\n",
    "\n",
    "tools = [retriever_tool, search]"
   ]
  },
  {
   "cell_type": "markdown",
   "id": "40491837",
   "metadata": {},
   "source": [
    "## Члены комитета"
   ]
  },
  {
   "cell_type": "markdown",
   "id": "3675faac",
   "metadata": {},
   "source": [
    "### Агенты-участники"
   ]
  },
  {
   "cell_type": "markdown",
   "id": "743e9930",
   "metadata": {},
   "source": [
    "Они будут отвечать на вопросы председателя, каждый будет преследовать свою цель. У каждого из них будет доступ к поисковику и документам по сделке"
   ]
  },
  {
   "cell_type": "code",
   "execution_count": 11,
   "id": "7dececde",
   "metadata": {},
   "outputs": [],
   "source": [
    "from langchain_core.prompts import ChatPromptTemplate\n",
    "from langchain.agents import create_tool_calling_agent\n",
    "from langchain.agents import AgentExecutor\n",
    "\n",
    "agents_dict = {}\n",
    "agents_names = ['law_member', 'reputation_member', 'credit_manager']\n",
    "\n",
    "for agent_name in agents_names:\n",
    "    agent_prompt = ChatPromptTemplate.from_messages(\n",
    "        [\n",
    "            (\"system\", prompts_dict[f'system_{agent_name}']),\n",
    "            (\"human\", \"Вопрос председателя: {input}\"),\n",
    "            (\"placeholder\", \"{agent_scratchpad}\"),\n",
    "        ]\n",
    "    )\n",
    "    \n",
    "    agent = create_tool_calling_agent(llm, tools, agent_prompt)\n",
    "    agent_executor = AgentExecutor(agent=agent, tools=tools, verbose=False)\n",
    "    \n",
    "    agents_dict[agent_name] = agent_executor\n",
    "    "
   ]
  },
  {
   "cell_type": "code",
   "execution_count": 12,
   "id": "a63ee0a9",
   "metadata": {},
   "outputs": [
    {
     "data": {
      "text/plain": [
       "{'input': 'Кто ты и что ты делаешь?',\n",
       " 'output': 'Я представитель службы безопасности. Моя работа заключается в проверке клиентов на предмет прошлых правонарушений и проблем с законом, таких как судимости или связи с криминальным миром. Для этого я использую доступные мне инструменты, включая интернет-поиск и документы по сделке.'}"
      ]
     },
     "execution_count": 12,
     "metadata": {},
     "output_type": "execute_result"
    }
   ],
   "source": [
    "agents_dict['reputation_member'].invoke({\"input\": 'Кто ты и что ты делаешь?'})"
   ]
  },
  {
   "cell_type": "code",
   "execution_count": 13,
   "id": "86a56de2",
   "metadata": {},
   "outputs": [
    {
     "data": {
      "text/plain": [
       "{'input': 'Кто ты и что ты делаешь?',\n",
       " 'output': 'Я являюсь юристом-членом кредитного комитета Сбербанка. Моя задача - обеспечить юридическую чистоту проводимых сделок.'}"
      ]
     },
     "execution_count": 13,
     "metadata": {},
     "output_type": "execute_result"
    }
   ],
   "source": [
    "agents_dict['law_member'].invoke({\"input\": 'Кто ты и что ты делаешь?'})"
   ]
  },
  {
   "cell_type": "code",
   "execution_count": 14,
   "id": "f000df73",
   "metadata": {},
   "outputs": [
    {
     "data": {
      "text/plain": [
       "{'input': 'Кто ты и что ты делаешь?',\n",
       " 'output': 'Я кредитный менеджер, представляющий интересы клиента перед кредитным комитетом. Моя задача - предоставить объективную информацию о клиенте и его запросе на получение кредита, чтобы помочь комитету принять обоснованное решение.'}"
      ]
     },
     "execution_count": 14,
     "metadata": {},
     "output_type": "execute_result"
    }
   ],
   "source": [
    "agents_dict['credit_manager'].invoke({\"input\": 'Кто ты и что ты делаешь?'})"
   ]
  },
  {
   "cell_type": "markdown",
   "id": "dc385698",
   "metadata": {},
   "source": [
    "### Председатель"
   ]
  },
  {
   "cell_type": "markdown",
   "id": "8d4e07d8",
   "metadata": {},
   "source": [
    "Председатель не будет иметь тулов (не будет агентов в чистом роде), но будет видеть весь разговор, задавать вопросы членам комитета и принимать решение."
   ]
  },
  {
   "cell_type": "code",
   "execution_count": 15,
   "id": "4263dbdf",
   "metadata": {},
   "outputs": [
    {
     "name": "stdout",
     "output_type": "stream",
     "text": [
      "Ты главный председатель кредитного комитета Сбербанка. Тебе даны сообщения из разговора о клиенте. Ты должен решить, выдавать кредит или нет. Твоя задача - оценить клиента с разных сторон и принять решение. Чтобы получить одобрение, заемщик должен быть \"чистым\", то есть иметь хорошую кредитная историю и ликвидный залог. Для компаний обязательна прозрачность в деятельности и налоговой отчетности.\n",
      "\n",
      "Причинами для отказа могут быть:\n",
      "* недостаточный уровень доходов и/или их непрозрачность (для компаний);\n",
      "* испорченная кредитная история;\n",
      "* стоимости залога не хватает для покрытия суммы долга;\n",
      "* наличие в прошлом негативных моментов, например, сокрытие доходов.\n",
      "\n",
      "Для того, чтобы принять решение, ты должен задавать верные вопросы другим членам комитета:\n",
      "* Кредитный менеджер. Это сотрудник, который ведет дело клиента и выступает связующим звеном между клиентом и банком. Занимается защитой клиента, подготавливает заключение по предстоящей сделке и знакомит с ним остальных участников. Его ты можешь спрашивать насчет различной информации о клиенте: его отрасли, отчетности и другого.\n",
      "* Представитель службы безопасности. Его задача – проверить, не было ли у клиента в прошлом правонарушений и проблем с законом: судимостей, связей с криминальным миром. У него обязательно нужно уточнить про иски к компании и бенефициарам, наличие негативной информации о компании/владельцах.\n",
      "* Юрист. Анализирует предоставленный пакет документов и выносит свое заключение. Отвечает за юридическую чистоту проводимой сделки. Юрист обязан присутствовать при рассмотрении любых нестандартных сделок.\n",
      "У каждого из членов комитета есть доступ к Интернету и документам клиента, подготовленным клиентом и профильными службами. У него ты обязательно должен уточнить про риски в юридическом заключении.\n",
      "Ты должен обязательно задавать вопросы указанным членам комитета, это позволит тебе вынести оценить клиента с разных сторон и принять верное решение. Спрашивай как можно больше вопросов разным у разных участников комитета.\n",
      "\n",
      "Отвечай лишь следующим образом:\n",
      "1. Если тебе требуется задать вопрос какому-то члену комитета, то пиши свой ответ как словарь вида {Член_комитета: Один Вопрос}. Ключи для членов комитета: credit = Кредитный менеджер, reputation = Представитель службы безопасности, law = Юрист. \n",
      "Примеры:\n",
      "Пример 1: {\"law\": \"Какие высокие правовые риски выявлены у клиента?\"}\n",
      "Пример 2: {\"reputation\": \"Какая негативная информация есть по бенефициарам заемщика?\"}\n",
      "Пример 3: {\"credit\": 'Какая выручка у клиента?'}\n",
      "2. Если ты увидел достаточно информации о клиенте, чтобы сформировать заключение, то возвращай словарь с ключом decision и кратким решением: {'decision': 'ok'}.\n",
      "\n",
      "Отвечай лишь указанными выше способами. Ты должен вернуть лишь один словарь в качестве ответа.\n",
      "Ты должен узнать очень много информации и опросить каждую службу не менее 2 раз. При формировании вопросов/уточнений учитывай зоны ответственности участников комитета.\n"
     ]
    }
   ],
   "source": [
    "print(prompts_dict['system_committee_head'])"
   ]
  },
  {
   "cell_type": "code",
   "execution_count": 16,
   "id": "938a8e81",
   "metadata": {},
   "outputs": [],
   "source": [
    "deal_info = 'Компания ООО Никомет хочет взять индивидуальный овердрафт на \\\n",
    "10 миллионов рублей сроком на 12 месяцев.'"
   ]
  },
  {
   "cell_type": "code",
   "execution_count": 17,
   "id": "c6ed3ecc",
   "metadata": {},
   "outputs": [],
   "source": [
    "from langchain_core.messages import SystemMessage, HumanMessage, AIMessage\n",
    "from langchain.prompts import PromptTemplate\n",
    "from langchain_core.output_parsers import StrOutputParser\n",
    "\n",
    "prompts_comitee_head = [\n",
    "    SystemMessage(prompts_dict['system_committee_head']),\n",
    "    HumanMessage(deal_info)\n",
    "]"
   ]
  },
  {
   "cell_type": "code",
   "execution_count": 18,
   "id": "dc30f4a4",
   "metadata": {},
   "outputs": [
    {
     "data": {
      "text/plain": [
       "AIMessage(content='{\"credit\": \"Какой уровень дохода у компании ООО Никомет?\"}', additional_kwargs={}, response_metadata={'token_usage': Usage(prompt_tokens=753, completion_tokens=18, total_tokens=771), 'model_name': 'GigaChat-Pro:1.0.26.15', 'finish_reason': 'stop'}, id='run-17b7b63b-fc4f-4b7a-9ba1-388db53eea32-0')"
      ]
     },
     "execution_count": 18,
     "metadata": {},
     "output_type": "execute_result"
    }
   ],
   "source": [
    "answer_llm = llm.invoke(prompts_comitee_head)\n",
    "answer_llm"
   ]
  },
  {
   "cell_type": "code",
   "execution_count": 19,
   "id": "ec77c854",
   "metadata": {},
   "outputs": [
    {
     "data": {
      "text/plain": [
       "{'credit': 'Какой уровень дохода у компании ООО Никомет?'}"
      ]
     },
     "execution_count": 19,
     "metadata": {},
     "output_type": "execute_result"
    }
   ],
   "source": [
    "eval(answer_llm.content)"
   ]
  },
  {
   "cell_type": "markdown",
   "id": "ccc67c3e",
   "metadata": {},
   "source": [
    "### Граф"
   ]
  },
  {
   "cell_type": "markdown",
   "id": "270dcab7",
   "metadata": {},
   "source": [
    "Создаем граф для общения агентов:"
   ]
  },
  {
   "cell_type": "code",
   "execution_count": 21,
   "id": "4f823fd1",
   "metadata": {},
   "outputs": [],
   "source": [
    "from typing import Annotated\n",
    "from typing_extensions import TypedDict\n",
    "from langgraph.graph import StateGraph, START, END\n",
    "from langgraph.graph.message import add_messages\n",
    "\n",
    "NUM_Q_THRESHOLD = 20\n",
    "\n",
    "class State(TypedDict):\n",
    "    messages: Annotated[list, add_messages]\n",
    "    num_qs: int = 0 # если будет слишком много вопросов, принимаем решение\n",
    "\n",
    "def committee_head(state: State):\n",
    "    '''\n",
    "    Председатель говорит, что делать дальше\n",
    "    '''\n",
    "    # если уже было задано очень много вопросов\n",
    "    if state['num_qs'] > NUM_Q_THRESHOLD:\n",
    "        return {\"messages\": [HumanMessage(\"{'decision': 'ok'}\")]}\n",
    "    \n",
    "    return {\"messages\": [llm.invoke(state[\"messages\"])],\n",
    "            'num_qs': state['num_qs'] + 1}\n",
    "\n",
    "def router(state: State):\n",
    "    '''\n",
    "    Определяем, куда идет диалог (вопрос участнику комитета / принятие решения)\n",
    "    '''\n",
    "    committee_head_message = state[\"messages\"][-1].content\n",
    "\n",
    "    try:\n",
    "        dict_msg = eval(committee_head_message)\n",
    "        # определяем куда идти дальше\n",
    "        way_key = list(dict_msg.keys())[0]\n",
    "        # если есть ключ определяет ноду\n",
    "        if way_key in ['law', 'reputation', 'decision', 'credit']:\n",
    "            if way_key == 'law':\n",
    "                print_md('**Вопрос Юристу:** ' + dict_msg[way_key])\n",
    "            elif way_key == 'reputation':\n",
    "                print_md('**Вопрос Представителю Подразделения Безопасности:** ' +\n",
    "                         dict_msg[way_key])\n",
    "            elif way_key == 'credit':\n",
    "                print_md('**Вопрос Кредитному Менеджеру:** ' + \n",
    "                         dict_msg[way_key])\n",
    "            elif way_key == 'decision':\n",
    "                print_md('**Переход к формированию заключения КО**')\n",
    "            return way_key\n",
    "        # если непонятно, куда идти, принимаем решение\n",
    "        else:\n",
    "            print_md('**Переход к формированию заключения КО**')\n",
    "            return 'decision'\n",
    "    except:\n",
    "        print_md('**Переход к формированию заключения КО**')\n",
    "        return 'decision'\n",
    "    \n",
    "def ask_law(state: State):\n",
    "    '''\n",
    "    Спрашиваем Юриста\n",
    "    '''\n",
    "    query = eval(state[\"messages\"][-1].content)['law']\n",
    "    answer = agents_dict['law_member'].invoke({\"input\": query})\n",
    "    print_md('**Ответ Юриста:** ' + answer['output'])\n",
    "    return {\"messages\": [HumanMessage('Ответ Юриста: ' + answer['output'])]}\n",
    "\n",
    "def ask_reputation(state: State):\n",
    "    '''\n",
    "    Спрашиваем Безопасника\n",
    "    '''\n",
    "    query = eval(state[\"messages\"][-1].content)['reputation']\n",
    "    answer = agents_dict['reputation_member'].invoke({\"input\": query})\n",
    "    print_md('**Ответ Представителя Подразделения Безопасности:** ' + answer['output'])\n",
    "    return {\"messages\": [HumanMessage('Ответ Представителя Подразделения Безопасности: '\n",
    "                                      + answer['output'])]}\n",
    "\n",
    "def ask_credit(state: State):\n",
    "    '''\n",
    "    Спрашиваем Кредитного инспектора\n",
    "    '''\n",
    "    query = eval(state[\"messages\"][-1].content)['credit']\n",
    "    answer = agents_dict['credit_manager'].invoke({\"input\": query})\n",
    "    print_md('**Ответ Кредитного менеджера:** ' + answer['output'])\n",
    "    return {\"messages\": [HumanMessage('Ответ Кредитного менеджера: '\n",
    "                                      + answer['output'])]}\n",
    "\n",
    "def make_decision(state: State):\n",
    "    '''\n",
    "    Принимаем итоговое решение на основе всего обсуждения на комитете\n",
    "    '''\n",
    "    messages_for_desision = ([SystemMessage(prompts_dict['system_decision_making'])]\n",
    "                             + state[\"messages\"][1:-1])\n",
    "    messages_for_desision.append(HumanMessage(prompts_dict['make_conclusion_prompt']))\n",
    "    decision = llm.invoke(messages_for_desision)\n",
    "    print_md(decision.content)\n",
    "    return {\"messages\": [decision]}\n",
    "    \n",
    "\n",
    "graph_builder = StateGraph(State)\n",
    "graph_builder.add_node(\"committee_head\", committee_head)\n",
    "graph_builder.add_node(\"law_member\", ask_law)\n",
    "graph_builder.add_node(\"reputation_member\", ask_reputation)\n",
    "graph_builder.add_node(\"credit_manager\", ask_credit)\n",
    "graph_builder.add_node(\"make_decision\", make_decision)\n",
    "\n",
    "graph_builder.add_edge(START, \"committee_head\")\n",
    "graph_builder.add_conditional_edges(\n",
    "    \"committee_head\",\n",
    "    router,\n",
    "    {\"law\": \"law_member\",\n",
    "     \"reputation\": \"reputation_member\",\n",
    "     \"credit\": 'credit_manager',\n",
    "     'decision': \"make_decision\"})\n",
    "graph_builder.add_edge('law_member', \"committee_head\")\n",
    "graph_builder.add_edge('reputation_member', \"committee_head\")\n",
    "graph_builder.add_edge('credit_manager', \"committee_head\")\n",
    "graph_builder.add_edge(\"make_decision\", END)\n",
    "graph = graph_builder.compile()"
   ]
  },
  {
   "cell_type": "code",
   "execution_count": 22,
   "id": "4df2adbc",
   "metadata": {},
   "outputs": [
    {
     "data": {
      "image/png": "[encoded data removed]",
      "text/plain": [
       "<IPython.core.display.Image object>"
      ]
     },
     "metadata": {},
     "output_type": "display_data"
    }
   ],
   "source": [
    "from IPython.display import Image, display\n",
    "\n",
    "display(Image(graph.get_graph().draw_mermaid_png()))"
   ]
  },
  {
   "cell_type": "markdown",
   "id": "75e62ce8",
   "metadata": {},
   "source": [
    "## Симуляция Заседания Кредитного Комитета"
   ]
  },
  {
   "cell_type": "code",
   "execution_count": 23,
   "id": "0b5b5f7b",
   "metadata": {
    "scrolled": false
   },
   "outputs": [
    {
     "data": {
      "text/markdown": [
       "**Начало заседания Кредитного Комитета**"
      ],
      "text/plain": [
       "<IPython.core.display.Markdown object>"
      ]
     },
     "metadata": {},
     "output_type": "display_data"
    },
    {
     "data": {
      "text/markdown": [
       "**Вопрос Кредитному Менеджеру:** Какой финансовый результат у компании за последние два года?"
      ],
      "text/plain": [
       "<IPython.core.display.Markdown object>"
      ]
     },
     "metadata": {},
     "output_type": "display_data"
    },
    {
     "data": {
      "text/markdown": [
       "**Ответ Кредитного менеджера:** Финансовый результат компании за последние два года можно охарактеризовать следующим образом: выручка снизилась на 5%, но чистая прибыль увеличилась на 8%. EBITDA составляет 50 млн рублей, собственный капитал - 150 млн рублей. Коэффициенты текущей ликвидности и задолженности находятся в пределах нормы."
      ],
      "text/plain": [
       "<IPython.core.display.Markdown object>"
      ]
     },
     "metadata": {},
     "output_type": "display_data"
    },
    {
     "data": {
      "text/markdown": [
       "**Вопрос Юристу:** Есть ли какие-либо судебные разбирательства против компании?"
      ],
      "text/plain": [
       "<IPython.core.display.Markdown object>"
      ]
     },
     "metadata": {},
     "output_type": "display_data"
    },
    {
     "data": {
      "text/markdown": [
       "**Ответ Юриста:** Согласно имеющимся документам, против компании ООО \"Никомет\" имеются два судебных иска. Один иск был подан компанией \"МеталлТрейд\" о нарушении сроков поставки продукции в 2022 году. Дело закончилось мировым соглашением, по которому ООО \"Никомет\" выполнил свои обязательства и компенсировал неустойку. Второй иск был связан с задолженностью по аренде в 2023 году. Задолженность была погашена до вынесения судебного решения, и дело было закрыто."
      ],
      "text/plain": [
       "<IPython.core.display.Markdown object>"
      ]
     },
     "metadata": {},
     "output_type": "display_data"
    },
    {
     "data": {
      "text/markdown": [
       "**Вопрос Представителю Подразделения Безопасности:** Какова репутация компании на рынке?"
      ],
      "text/plain": [
       "<IPython.core.display.Markdown object>"
      ]
     },
     "metadata": {},
     "output_type": "display_data"
    },
    {
     "data": {
      "text/markdown": [
       "**Ответ Представителя Подразделения Безопасности:** Согласно имеющимся документам и результатам поиска, репутация компании на рынке оценивается как положительная. Компания имеет стабильные финансовые показатели, хорошие отзывы от партнеров и клиентов, а также отсутствие значимых судебных исков."
      ],
      "text/plain": [
       "<IPython.core.display.Markdown object>"
      ]
     },
     "metadata": {},
     "output_type": "display_data"
    },
    {
     "data": {
      "text/markdown": [
       "**Вопрос Кредитному Менеджеру:** Каковы условия предоставления овердрафта?"
      ],
      "text/plain": [
       "<IPython.core.display.Markdown object>"
      ]
     },
     "metadata": {},
     "output_type": "display_data"
    },
    {
     "data": {
      "text/markdown": [
       "**Ответ Кредитного менеджера:** Условия предоставления овердрафта включают следующее: ставка процента составляет 12% годовых, лимит овердрафта определяется индивидуально, срок погашения – до 30 дней."
      ],
      "text/plain": [
       "<IPython.core.display.Markdown object>"
      ]
     },
     "metadata": {},
     "output_type": "display_data"
    },
    {
     "data": {
      "text/markdown": [
       "**Вопрос Юристу:** Имеется ли информация о каких-либо нарушениях законодательства со стороны компании?"
      ],
      "text/plain": [
       "<IPython.core.display.Markdown object>"
      ]
     },
     "metadata": {},
     "output_type": "display_data"
    },
    {
     "data": {
      "text/markdown": [
       "**Ответ Юриста:** Да, имеется информация о высоких правовых рисках неисполнения экологических норм и нарушениях в трудовых отношениях. Также отмечены средние правовые риски необоснованных налоговых вычетов."
      ],
      "text/plain": [
       "<IPython.core.display.Markdown object>"
      ]
     },
     "metadata": {},
     "output_type": "display_data"
    },
    {
     "data": {
      "text/markdown": [
       "**Вопрос Представителю Подразделения Безопасности:** Какие факторы влияют на репутацию компании?"
      ],
      "text/plain": [
       "<IPython.core.display.Markdown object>"
      ]
     },
     "metadata": {},
     "output_type": "display_data"
    },
    {
     "data": {
      "text/markdown": [
       "**Ответ Представителя Подразделения Безопасности:** Факторы, которые могут повлиять на репутацию компании, включают качество продукции или услуг, уровень обслуживания клиентов, корпоративную культуру, этику ведения бизнеса, прозрачность финансовой отчетности, соблюдение законов и нормативных актов, а также участие в благотворительных и социальных проектах."
      ],
      "text/plain": [
       "<IPython.core.display.Markdown object>"
      ]
     },
     "metadata": {},
     "output_type": "display_data"
    },
    {
     "data": {
      "text/markdown": [
       "**Вопрос Кредитному Менеджеру:** Какие прогнозы роста прибыли у компании?"
      ],
      "text/plain": [
       "<IPython.core.display.Markdown object>"
      ]
     },
     "metadata": {},
     "output_type": "display_data"
    },
    {
     "data": {
      "text/markdown": [
       "**Ответ Кредитного менеджера:** Прогнозы роста прибыли у компании оценить сложно, так как выручка снизилась на 5%, но чистая прибыль выросла на 8%. Тем не менее, компания показывает стабильность в операционной деятельности и способна генерировать денежные потоки."
      ],
      "text/plain": [
       "<IPython.core.display.Markdown object>"
      ]
     },
     "metadata": {},
     "output_type": "display_data"
    },
    {
     "data": {
      "text/markdown": [
       "**Вопрос Юристу:** Какие рекомендации по снижению правовых рисков?"
      ],
      "text/plain": [
       "<IPython.core.display.Markdown object>"
      ]
     },
     "metadata": {},
     "output_type": "display_data"
    },
    {
     "data": {
      "text/markdown": [
       "**Ответ Юриста:** Для снижения правовых рисков я рекомендую провести тщательный анализ финансового состояния клиента, его репутации и истории судебных разбирательств. Также важно убедиться в наличии всех необходимых разрешений и лицензий для ведения бизнеса. Кроме того, следует проверить условия договора на предмет возможных скрытых обязательств или рисков."
      ],
      "text/plain": [
       "<IPython.core.display.Markdown object>"
      ]
     },
     "metadata": {},
     "output_type": "display_data"
    },
    {
     "data": {
      "text/markdown": [
       "**Вопрос Кредитному Менеджеру:** Какие гарантии предлагает клиент?"
      ],
      "text/plain": [
       "<IPython.core.display.Markdown object>"
      ]
     },
     "metadata": {},
     "output_type": "display_data"
    },
    {
     "data": {
      "text/markdown": [
       "**Ответ Кредитного менеджера:** Клиент предлагает следующие гарантии: поручительство акционеров и залог имущества компании."
      ],
      "text/plain": [
       "<IPython.core.display.Markdown object>"
      ]
     },
     "metadata": {},
     "output_type": "display_data"
    },
    {
     "data": {
      "text/markdown": [
       "**Вопрос Юристу:** Какие правовые аспекты необходимо учесть при принятии решения?"
      ],
      "text/plain": [
       "<IPython.core.display.Markdown object>"
      ]
     },
     "metadata": {},
     "output_type": "display_data"
    },
    {
     "data": {
      "text/markdown": [
       "**Ответ Юриста:** При принятии решения о выдаче кредита важно учитывать следующие правовые аспекты:\n",
       "1. Юридическая правоспособность заемщика - проверка его регистрации в качестве юридического лица или индивидуального предпринимателя.\n",
       "2. Правомочность лиц, подписывающих договоры от имени заемщика - наличие соответствующих полномочий у представителей заемщика.\n",
       "3. Соблюдение требований законодательства к оформлению договора займа - включение всех необходимых условий, предусмотренных законом.\n",
       "4. Наличие обеспечения возвратности кредита - залог имущества, поручительство третьих лиц и т.д.\n",
       "5. Возможные риски, связанные с деловым окружением заемщика - проверки контрагентов, партнеров и других связанных лиц."
      ],
      "text/plain": [
       "<IPython.core.display.Markdown object>"
      ]
     },
     "metadata": {},
     "output_type": "display_data"
    },
    {
     "data": {
      "text/markdown": [
       "**Вопрос Представителю Подразделения Безопасности:** Какие репутационные риски связаны с компанией?"
      ],
      "text/plain": [
       "<IPython.core.display.Markdown object>"
      ]
     },
     "metadata": {},
     "output_type": "display_data"
    },
    {
     "data": {
      "text/markdown": [
       "**Ответ Представителя Подразделения Безопасности:** Согласно доступным данным, судебные иски к Сабидко Н.Н. отсутствуют."
      ],
      "text/plain": [
       "<IPython.core.display.Markdown object>"
      ]
     },
     "metadata": {},
     "output_type": "display_data"
    },
    {
     "data": {
      "text/markdown": [
       "**Вопрос Юристу:** Какие правовые риски связаны с залогом имущества?"
      ],
      "text/plain": [
       "<IPython.core.display.Markdown object>"
      ]
     },
     "metadata": {},
     "output_type": "display_data"
    },
    {
     "data": {
      "text/markdown": [
       "**Ответ Юриста:** Высокие правовые риски связаны с залогом имущества могут включать в себя следующие аспекты:\n",
       "\n",
       "1. Риск утраты или повреждения залога. В этом случае банк может потерять часть своих средств, если залог не сможет покрыть долг.\n",
       "\n",
       "2. Риски, связанные с оценкой стоимости залога. Если залог был оценен неправильно, то это может привести к тому, что банк получит меньше денег, чем ожидалось, при продаже залога.\n",
       "\n",
       "3. Риск мошенничества со стороны заемщика. Например, заемщик может попытаться скрыть истинную стоимость залога или продать его без ведома банка.\n",
       "\n",
       "4. Риски, связанные с законодательством. Изменения в законах могут повлиять на права банка на залог и возможность его реализации.\n",
       "\n",
       "Для минимизации этих рисков необходимо тщательно оценивать залог, проводить регулярную инспекцию состояния залога и следить за изменениями в законодательстве."
      ],
      "text/plain": [
       "<IPython.core.display.Markdown object>"
      ]
     },
     "metadata": {},
     "output_type": "display_data"
    },
    {
     "data": {
      "text/markdown": [
       "**Вопрос Кредитному Менеджеру:** Какие рекомендации по улучшению финансового состояния компании?"
      ],
      "text/plain": [
       "<IPython.core.display.Markdown object>"
      ]
     },
     "metadata": {},
     "output_type": "display_data"
    },
    {
     "data": {
      "text/markdown": [
       "**Ответ Кредитного менеджера:** В документах нет конкретных рекомендаций по улучшению финансового состояния компании."
      ],
      "text/plain": [
       "<IPython.core.display.Markdown object>"
      ]
     },
     "metadata": {},
     "output_type": "display_data"
    },
    {
     "data": {
      "text/markdown": [
       "**Вопрос Юристу:** Какие условия должны быть соблюдены для успешной реализации залога?"
      ],
      "text/plain": [
       "<IPython.core.display.Markdown object>"
      ]
     },
     "metadata": {},
     "output_type": "display_data"
    },
    {
     "data": {
      "text/markdown": [
       "**Ответ Юриста:** Для успешной реализации залога необходимо выполнение следующих условий:\n",
       "1. Залог должен быть зарегистрирован в установленном порядке. Это значит, что право залога должно быть внесено в соответствующий реестр, например, в Единый государственный реестр недвижимости (ЕГРН) или другой аналогичный реестр.\n",
       "2. Залогодатель должен иметь право собственности на предмет залога. Это право также должно быть зарегистрировано в установленном порядке.\n",
       "3. Предмет залога должен соответствовать требованиям банка к залогу. Например, банк может требовать, чтобы недвижимость была ликвидной, а транспортное средство - исправным и без значительных повреждений.\n",
       "4. Заемщик должен выполнять свои обязательства перед банком, включая своевременную выплату процентов и основного долга. В противном случае банк имеет право обратить взыскание на предмет залога."
      ],
      "text/plain": [
       "<IPython.core.display.Markdown object>"
      ]
     },
     "metadata": {},
     "output_type": "display_data"
    },
    {
     "data": {
      "text/markdown": [
       "**Вопрос Представителю Подразделения Безопасности:** Какие рекомендации по улучшению репутации компании?"
      ],
      "text/plain": [
       "<IPython.core.display.Markdown object>"
      ]
     },
     "metadata": {},
     "output_type": "display_data"
    },
    {
     "data": {
      "text/markdown": [
       "**Ответ Представителя Подразделения Безопасности:** Для улучшения репутации компании можно предпринять следующие шаги:\n",
       "1. Сосредоточьтесь на качестве обслуживания клиентов. Это включает в себя быстрое реагирование на запросы клиентов, предоставление полезной информации и решение их проблем.\n",
       "2. Развивайте положительный имидж через социальные сети и другие онлайн-платформы. Регулярно публикуйте интересные и полезные материалы, взаимодействуйте с аудиторией и отвечайте на комментарии.\n",
       "3. Работайте над созданием положительных отзывов от довольных клиентов. Просите их оставлять отзывы на популярных платформах, таких как Google Reviews или Yelp.\n",
       "4. Поддерживайте прозрачность и открытость в общении с клиентами и партнерами. Публикуйте регулярные отчеты о своей деятельности и достижениях.\n",
       "5. Инвестируйте в обучение сотрудников. Обученные и квалифицированные сотрудники могут лучше справляться со своими обязанностями и предоставлять более качественные услуги.\n",
       "6. Участвуйте в благотворительности и социальных проектах. Это поможет создать положительное впечатление о вашей компании и показать вашу социальную ответственность."
      ],
      "text/plain": [
       "<IPython.core.display.Markdown object>"
      ]
     },
     "metadata": {},
     "output_type": "display_data"
    },
    {
     "data": {
      "text/markdown": [
       "**Вопрос Кредитному Менеджеру:** Какие преимущества и недостатки имеет предложение клиента?"
      ],
      "text/plain": [
       "<IPython.core.display.Markdown object>"
      ]
     },
     "metadata": {},
     "output_type": "display_data"
    },
    {
     "data": {
      "text/markdown": [
       "**Ответ Кредитного менеджера:** Из преимуществ предложения клиента можно выделить следующие: высокий уровень рентабельности проекта, который обеспечивает значительный потенциал для роста доходов; наличие положительной истории сотрудничества с банком; готовность предоставить дополнительное обеспечение в случае необходимости.\n",
       "\n",
       "Что касается недостатков, то стоит отметить высокую степень риска, связанную с новизной продукта, предлагаемого клиентом, а также потенциальные трудности в реализации проекта в связи с конкуренцией на рынке."
      ],
      "text/plain": [
       "<IPython.core.display.Markdown object>"
      ]
     },
     "metadata": {},
     "output_type": "display_data"
    },
    {
     "data": {
      "text/markdown": [
       "**Вопрос Юристу:** Какие правовые риски связаны с деятельностью компании?"
      ],
      "text/plain": [
       "<IPython.core.display.Markdown object>"
      ]
     },
     "metadata": {},
     "output_type": "display_data"
    },
    {
     "data": {
      "text/markdown": [
       "**Ответ Юриста:** Правовые риски, связанные с деятельностью компании, включают высокий риск нарушений в трудовых отношениях, средний риск претензий со стороны контрагентов по долгосрочным контрактам, а также возможные финансовые риски и структурный риск сделки."
      ],
      "text/plain": [
       "<IPython.core.display.Markdown object>"
      ]
     },
     "metadata": {},
     "output_type": "display_data"
    },
    {
     "data": {
      "text/markdown": [
       "**Вопрос Представителю Подразделения Безопасности:** Какие факторы влияют на оценку репутации компании?"
      ],
      "text/plain": [
       "<IPython.core.display.Markdown object>"
      ]
     },
     "metadata": {},
     "output_type": "display_data"
    },
    {
     "data": {
      "text/markdown": [
       "**Ответ Представителя Подразделения Безопасности:** При оценке репутации компании учитываются следующие факторы:\n",
       "1. Финансовая стабильность: доходы, расходы, долги, прибыль.\n",
       "2. Качество продукции или услуг: отзывы клиентов, награды, сертификаты качества.\n",
       "3. Этика бизнеса: соблюдение законов, корпоративная социальная ответственность, экологическая политика.\n",
       "4. Управление рисками: наличие систем управления рисками, стратегий минимизации рисков.\n",
       "5. Корпоративное управление: структура управления, прозрачность принятия решений, независимость совета директоров.\n",
       "6. Отношения с инвесторами: своевременность выплаты дивидендов, открытость информации для инвесторов.\n",
       "7. Репутация среди сотрудников: условия труда, уровень заработной платы, корпоративные льготы.\n",
       "8. Взаимодействие с обществом: благотворительность, спонсорство, участие в социальных проектах."
      ],
      "text/plain": [
       "<IPython.core.display.Markdown object>"
      ]
     },
     "metadata": {},
     "output_type": "display_data"
    },
    {
     "data": {
      "text/markdown": [
       "**Вопрос Кредитному Менеджеру:** Какие рекомендации по управлению финансами компании?"
      ],
      "text/plain": [
       "<IPython.core.display.Markdown object>"
      ]
     },
     "metadata": {},
     "output_type": "display_data"
    },
    {
     "data": {
      "text/markdown": [
       "**Ответ Кредитного менеджера:** Извините, но я не могу предоставить рекомендации по управлению финансами компании. Моя роль заключается в представлении информации о заемщике и защите его интересов перед кредитным комитетом. Если у вас есть конкретные вопросы о финансовом состоянии или кредитоспособности заемщика, я готов ответить на них."
      ],
      "text/plain": [
       "<IPython.core.display.Markdown object>"
      ]
     },
     "metadata": {},
     "output_type": "display_data"
    },
    {
     "data": {
      "text/markdown": [
       "**Вопрос Юристу:** Какие правовые аспекты необходимо учесть при составлении договора займа?"
      ],
      "text/plain": [
       "<IPython.core.display.Markdown object>"
      ]
     },
     "metadata": {},
     "output_type": "display_data"
    },
    {
     "data": {
      "text/markdown": [
       "**Ответ Юриста:** При составлении договора займа необходимо учитывать следующие правовые аспекты:\n",
       "1. Определение предмета договора - суммы займа, сроков возврата, процентов за пользование заемными средствами.\n",
       "2. Права и обязанности сторон - условия предоставления займа и его возврата.\n",
       "3. Ответственность сторон - меры ответственности за нарушение условий договора.\n",
       "4. Форс-мажорные обстоятельства - случаи, когда стороны освобождаются от ответственности за невыполнение обязательств.\n",
       "5. Порядок разрешения споров - способы урегулирования разногласий между сторонами.\n",
       "6. Срок действия договора - период времени, в течение которого договор является действительным."
      ],
      "text/plain": [
       "<IPython.core.display.Markdown object>"
      ]
     },
     "metadata": {},
     "output_type": "display_data"
    },
    {
     "data": {
      "text/markdown": [
       "**Вопрос Представителю Подразделения Безопасности:** Какие факторы влияют на репутацию компании?"
      ],
      "text/plain": [
       "<IPython.core.display.Markdown object>"
      ]
     },
     "metadata": {},
     "output_type": "display_data"
    },
    {
     "data": {
      "text/markdown": [
       "**Ответ Представителя Подразделения Безопасности:** Факторы, которые могут повлиять на репутацию компании, включают качество продуктов или услуг, отношение к клиентам, корпоративную культуру, этические стандарты, прозрачность и подотчетность. Также важны финансовая стабильность, соблюдение законов и нормативных актов, а также участие в благотворительности и социальных проектах."
      ],
      "text/plain": [
       "<IPython.core.display.Markdown object>"
      ]
     },
     "metadata": {},
     "output_type": "display_data"
    },
    {
     "data": {
      "text/markdown": [
       "**Переход к формированию заключения КО**"
      ],
      "text/plain": [
       "<IPython.core.display.Markdown object>"
      ]
     },
     "metadata": {},
     "output_type": "display_data"
    },
    {
     "data": {
      "text/markdown": [
       "1. Финансовый результат компании за последние два года характеризуется снижением выручки на 5% и увеличением чистой прибыли на 8%.\n",
       "2. Коэффициенты текущей ликвидности и задолженности находятся в пределах нормы.\n",
       "3. Имеются два судебных иска против компании, оба были успешно разрешены.\n",
       "4. Репутация компании на рынке оценивается как положительная.\n",
       "5. Условия предоставления овердрафта включают ставку процента 12% годовых, лимит овердрафта определяется индивидуально, срок погашения – до 30 дней.\n",
       "6. Имеются высокие правовые риски неисполнения экологических норм и нарушения в трудовых отношениях.\n",
       "7. Гарантии, предлагаемые клиентом, включают поручительство акционеров и залог имущества компании.\n",
       "8. Рекомендации по улучшению финансового состояния компании отсутствуют.\n",
       "9. Правовые аспекты, которые необходимо учесть при принятии решения, включают юридическую правоспособность заемщика, правомочность лиц, подписывающих договоры от имени заемщика, соблюдение требований законодательства к оформлению договора займа, наличие обеспечения возвратности кредита, возможные риски, связанные с деловым окружением заемщика.\n",
       "10. Рекомендации по управлению финансами компании отсутствуют.\n",
       "11. Рекомендации по снижению правовых рисков включают проведение анализа финансового состояния клиента, его репутации и истории судебных разбирательств, а также проверку условий договора на предмет возможных скрытых обязательств или рисков.\n",
       "12. Правовые аспекты при составлении договора займа включают определение предмета договора, права и обязанности сторон, ответственность сторон, форс-мажорные обстоятельства, порядок разрешения споров и срок действия договора.\n",
       "13. Рекомендации по улучшению репутации компании включают сосредоточенность на качестве обслуживания клиентов, развитие положительного имиджа через социальные сети, работу над созданием положительных отзывов от довольных клиентов, поддержку прозрачности и открытости в общении с клиентами и партнерами, инвестиции в обучение сотрудников, участие в благотворительности и социальных проектах.\n",
       "\n",
       "**Решение:** \n",
       "На основании предоставленной информации и проведенного анализа, я считаю, что предоставление кредита компании ООО \"Никомет\" является рискованным решением. Несмотря на положительную репутацию и финансовую устойчивость компании, наличие высоких правовых рисков и неопределенностей в отношении будущего развития бизнеса делают этот проект слишком рискованным для нашего банка. Поэтому я рекомендую отклонить заявку на получение кредита."
      ],
      "text/plain": [
       "<IPython.core.display.Markdown object>"
      ]
     },
     "metadata": {},
     "output_type": "display_data"
    }
   ],
   "source": [
    "print_md('**Начало заседания Кредитного Комитета**')\n",
    "message_history = graph.invoke({'messages': prompts_comitee_head, 'num_qs': 0}, {\"recursion_limit\": 100})"
   ]
  },
  {
   "cell_type": "code",
   "execution_count": null,
   "id": "746ae7b6",
   "metadata": {},
   "outputs": [],
   "source": []
  }
 ],
 "metadata": {
  "kernelspec": {
   "display_name": "Python 3 (ipykernel)",
   "language": "python",
   "name": "python3"
  },
  "language_info": {
   "codemirror_mode": {
    "name": "ipython",
    "version": 3
   },
   "file_extension": ".py",
   "mimetype": "text/x-python",
   "name": "python",
   "nbconvert_exporter": "python",
   "pygments_lexer": "ipython3",
   "version": "3.9.12"
  },
  "varInspector": {
   "cols": {
    "lenName": 16,
    "lenType": 16,
    "lenVar": 40
   },
   "kernels_config": {
    "python": {
     "delete_cmd_postfix": "",
     "delete_cmd_prefix": "del ",
     "library": "var_list.py",
     "varRefreshCmd": "print(var_dic_list())"
    },
    "r": {
     "delete_cmd_postfix": ") ",
     "delete_cmd_prefix": "rm(",
     "library": "var_list.r",
     "varRefreshCmd": "cat(var_dic_list()) "
    }
   },
   "types_to_exclude": [
    "module",
    "function",
    "builtin_function_or_method",
    "instance",
    "_Feature"
   ],
   "window_display": false
  }
 },
 "nbformat": 4,
 "nbformat_minor": 5
}
