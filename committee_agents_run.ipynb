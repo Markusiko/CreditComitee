{
 "cells": [
  {
   "cell_type": "code",
   "execution_count": 1,
   "id": "d0a00d33",
   "metadata": {},
   "outputs": [
    {
     "data": {
      "text/plain": [
       "True"
      ]
     },
     "execution_count": 1,
     "metadata": {},
     "output_type": "execute_result"
    }
   ],
   "source": [
    "%load_ext autoreload\n",
    "%autoreload 2\n",
    "import os\n",
    "from dotenv import load_dotenv\n",
    "from langchain_gigachat import GigaChatEmbeddings\n",
    "from langchain_gigachat import GigaChat\n",
    "from prompts import prompts_dict\n",
    "\n",
    "# # в файле .env должны быть следующие переменные окружения\n",
    "# GIGACHAT_CREDENTIALS = ... # для API Гиги\n",
    "# TAVILY_API_KEY = ... # для пользования тулом поиска\n",
    "# # для логирования в LangSmith\n",
    "# LANGCHAIN_TRACING_V2 = 'true'\n",
    "# LANGCHAIN_API_KEY = ...\n",
    "# LANGCHAIN_ENDPOINT = \"https://api.smith.langchain.com\"\n",
    "# LANGCHAIN_PROJECT = \"comitee_agents_test\"\n",
    "\n",
    "load_dotenv()"
   ]
  },
  {
   "cell_type": "markdown",
   "id": "0dbe1a1c",
   "metadata": {},
   "source": [
    "## Подготовка"
   ]
  },
  {
   "cell_type": "code",
   "execution_count": 2,
   "id": "155808f5",
   "metadata": {},
   "outputs": [],
   "source": [
    "from IPython.display import display, Markdown\n",
    "\n",
    "def print_md(text):\n",
    "    '''\n",
    "    Для отображения вывода LLM в формате markdown\n",
    "    '''\n",
    "    display(Markdown(text))"
   ]
  },
  {
   "cell_type": "markdown",
   "id": "9837d40a",
   "metadata": {},
   "source": [
    "### LLM и эмбеддер"
   ]
  },
  {
   "cell_type": "code",
   "execution_count": 3,
   "id": "bfee428c",
   "metadata": {},
   "outputs": [],
   "source": [
    "llm = GigaChat(verify_ssl_certs=False, model='GigaChat-Pro', scope=\"GIGACHAT_API_PERS\",\n",
    "               top_p=0.5)\n",
    "embeddings = GigaChatEmbeddings(verify_ssl_certs=False, scope=\"GIGACHAT_API_PERS\")"
   ]
  },
  {
   "cell_type": "code",
   "execution_count": 4,
   "id": "9e301ebc",
   "metadata": {},
   "outputs": [
    {
     "data": {
      "text/plain": [
       "AIMessage(content='Здравствуйте! У меня всё отлично, спасибо. Как у вас дела?', additional_kwargs={}, response_metadata={'token_usage': Usage(prompt_tokens=17, completion_tokens=20, total_tokens=37), 'model_name': 'GigaChat-Pro:1.0.26.15', 'finish_reason': 'stop'}, id='run-863a9be3-96b3-45f8-a8a0-4d5d856f1290-0')"
      ]
     },
     "execution_count": 4,
     "metadata": {},
     "output_type": "execute_result"
    }
   ],
   "source": [
    "llm.invoke('Привет, как дела?')"
   ]
  },
  {
   "cell_type": "markdown",
   "id": "3854347a",
   "metadata": {},
   "source": [
    "### Ретривер по документам сделки"
   ]
  },
  {
   "cell_type": "code",
   "execution_count": 5,
   "id": "1f78dea1",
   "metadata": {},
   "outputs": [],
   "source": [
    "docs_naming = {\n",
    "    './data/docs/credit_inspection.txt': 'Заключение Кредитного Подразделения',\n",
    "    './data/docs/reputation.txt': 'Заключение Подразделения Безопасности',\n",
    "    './data/docs/prko.txt': 'ПРКО',\n",
    "    './data/docs/law.txt': 'Заключение Юридического Подразделения',\n",
    "    './data/docs/rm_conclusion.txt': 'Заключение Риск-Менеджера'\n",
    "}"
   ]
  },
  {
   "cell_type": "code",
   "execution_count": 6,
   "id": "bbad1d8d",
   "metadata": {},
   "outputs": [],
   "source": [
    "from langchain_community.document_loaders import TextLoader\n",
    "import re\n",
    "\n",
    "docs = []\n",
    "\n",
    "for txt_file_path in docs_naming:\n",
    "    loader = TextLoader(txt_file_path)\n",
    "    file_docs = loader.load()\n",
    "    \n",
    "    for doc in file_docs:\n",
    "        doc.metadata.update({'source_type': docs_naming[txt_file_path]})\n",
    "    \n",
    "    docs.extend(file_docs)"
   ]
  },
  {
   "cell_type": "code",
   "execution_count": 7,
   "id": "aac73ec4",
   "metadata": {},
   "outputs": [
    {
     "name": "stderr",
     "output_type": "stream",
     "text": [
      "/Users/markymark/opt/anaconda3/lib/python3.9/site-packages/huggingface_hub/file_download.py:1142: FutureWarning: `resume_download` is deprecated and will be removed in version 1.0.0. Downloads always resume when possible. If you want to force a new download, use `force_download=True`.\n",
      "  warnings.warn(\n"
     ]
    }
   ],
   "source": [
    "from transformers import AutoTokenizer\n",
    "\n",
    "tokenizer = AutoTokenizer.from_pretrained(\"intfloat/multilingual-e5-large\")"
   ]
  },
  {
   "cell_type": "code",
   "execution_count": 8,
   "id": "0fb1700f",
   "metadata": {},
   "outputs": [
    {
     "name": "stderr",
     "output_type": "stream",
     "text": [
      "Token indices sequence length is longer than the specified maximum sequence length for this model (587 > 512). Running this sequence through the model will result in indexing errors\n"
     ]
    },
    {
     "data": {
      "text/plain": [
       "15"
      ]
     },
     "execution_count": 8,
     "metadata": {},
     "output_type": "execute_result"
    }
   ],
   "source": [
    "from langchain_text_splitters import RecursiveCharacterTextSplitter\n",
    "\n",
    "text_splitter = RecursiveCharacterTextSplitter.from_huggingface_tokenizer(\n",
    "    tokenizer, chunk_size=512, chunk_overlap=128)\n",
    "splitted_docs = text_splitter.split_documents(docs)\n",
    "len(splitted_docs)"
   ]
  },
  {
   "cell_type": "code",
   "execution_count": 9,
   "id": "78e5d223",
   "metadata": {
    "scrolled": true
   },
   "outputs": [],
   "source": [
    "import faiss\n",
    "from langchain_community.docstore.in_memory import InMemoryDocstore\n",
    "from langchain_community.vectorstores import FAISS\n",
    "\n",
    "index = faiss.IndexFlatL2(len(embeddings.embed_query(\"hello world\")))\n",
    "\n",
    "vector_store = FAISS(\n",
    "    embedding_function=embeddings,\n",
    "    index=index,\n",
    "    docstore=InMemoryDocstore(),\n",
    "    index_to_docstore_id={},\n",
    ")\n",
    "vector_store.add_documents(documents=splitted_docs)\n",
    "\n",
    "retriever = vector_store.as_retriever(search_type=\"mmr\", search_kwargs={\"k\": 3})"
   ]
  },
  {
   "cell_type": "markdown",
   "id": "f7092a45",
   "metadata": {},
   "source": [
    "### Инструменты для агентов"
   ]
  },
  {
   "cell_type": "code",
   "execution_count": 10,
   "id": "3d7b4283",
   "metadata": {},
   "outputs": [],
   "source": [
    "from langchain.tools.retriever import create_retriever_tool\n",
    "from langchain_community.tools.tavily_search import TavilySearchResults\n",
    "\n",
    "retriever_tool = create_retriever_tool(\n",
    "    retriever,\n",
    "    \"deal_docs_search\",\n",
    "    \"Содержит данные из полезных для анализа документов о клиенте: \\\n",
    "    заключения служб, информация о клиенте, условиях кредитования.\")\n",
    "search = TavilySearchResults()\n",
    "\n",
    "tools = [retriever_tool, search]"
   ]
  },
  {
   "cell_type": "markdown",
   "id": "eed6bc01",
   "metadata": {},
   "source": [
    "## Члены комитета"
   ]
  },
  {
   "cell_type": "markdown",
   "id": "ec68c076",
   "metadata": {},
   "source": [
    "### Агенты-участники"
   ]
  },
  {
   "cell_type": "markdown",
   "id": "26837d0b",
   "metadata": {},
   "source": [
    "Они будут отвечать на вопросы председателя, каждый будет преследовать свою цель. У каждого из них будет доступ к поисковику и документам по сделке"
   ]
  },
  {
   "cell_type": "code",
   "execution_count": 11,
   "id": "c6a5c6e4",
   "metadata": {},
   "outputs": [],
   "source": [
    "from langchain_core.prompts import ChatPromptTemplate\n",
    "from langchain.agents import create_tool_calling_agent\n",
    "from langchain.agents import AgentExecutor\n",
    "\n",
    "agents_dict = {}\n",
    "agents_names = ['law_member', 'reputation_member', 'credit_manager']\n",
    "\n",
    "for agent_name in agents_names:\n",
    "    agent_prompt = ChatPromptTemplate.from_messages(\n",
    "        [\n",
    "            (\"system\", prompts_dict[f'system_{agent_name}']),\n",
    "            (\"human\", \"Вопрос председателя: {input}\"),\n",
    "            (\"placeholder\", \"{agent_scratchpad}\"),\n",
    "        ]\n",
    "    )\n",
    "    \n",
    "    agent = create_tool_calling_agent(llm, tools, agent_prompt)\n",
    "    agent_executor = AgentExecutor(agent=agent, tools=tools, verbose=False)\n",
    "    \n",
    "    agents_dict[agent_name] = agent_executor\n",
    "    "
   ]
  },
  {
   "cell_type": "code",
   "execution_count": 12,
   "id": "7c543b92",
   "metadata": {},
   "outputs": [
    {
     "data": {
      "text/plain": [
       "{'input': 'Кто ты и что ты делаешь?',\n",
       " 'output': 'Я представитель службы безопасности. Моя работа заключается в проверке клиентов на предмет прошлых правонарушений и проблем с законом, таких как судимости или связи с криминальным миром.'}"
      ]
     },
     "execution_count": 12,
     "metadata": {},
     "output_type": "execute_result"
    }
   ],
   "source": [
    "agents_dict['reputation_member'].invoke({\"input\": 'Кто ты и что ты делаешь?'})"
   ]
  },
  {
   "cell_type": "code",
   "execution_count": 13,
   "id": "1ff6263c",
   "metadata": {},
   "outputs": [
    {
     "data": {
      "text/plain": [
       "{'input': 'Кто ты и что ты делаешь?',\n",
       " 'output': 'Я юрист-член кредитного комитета Сбербанка. Моя задача - обеспечить юридическую чистоту проводимых сделок.'}"
      ]
     },
     "execution_count": 13,
     "metadata": {},
     "output_type": "execute_result"
    }
   ],
   "source": [
    "agents_dict['law_member'].invoke({\"input\": 'Кто ты и что ты делаешь?'})"
   ]
  },
  {
   "cell_type": "code",
   "execution_count": 14,
   "id": "ed3e19f7",
   "metadata": {},
   "outputs": [
    {
     "data": {
      "text/plain": [
       "{'input': 'Кто ты и что ты делаешь?',\n",
       " 'output': 'Я кредитный менеджер, представляющий интересы нашего потенциального заемщика перед кредитным комитетом. Моя задача - предоставить объективную информацию о нашем клиенте и его проекте, чтобы помочь вам принять обоснованное решение о предоставлении кредита.'}"
      ]
     },
     "execution_count": 14,
     "metadata": {},
     "output_type": "execute_result"
    }
   ],
   "source": [
    "agents_dict['credit_manager'].invoke({\"input\": 'Кто ты и что ты делаешь?'})"
   ]
  },
  {
   "cell_type": "markdown",
   "id": "dc385698",
   "metadata": {},
   "source": [
    "### Председатель"
   ]
  },
  {
   "cell_type": "markdown",
   "id": "822a8801",
   "metadata": {},
   "source": [
    "Председатель не будет иметь тулов (не будет агентов в чистом роде), но будет видеть весь разговор, задавать вопросы членам комитета и принимать решение."
   ]
  },
  {
   "cell_type": "code",
   "execution_count": 15,
   "id": "850129b4",
   "metadata": {},
   "outputs": [
    {
     "name": "stdout",
     "output_type": "stream",
     "text": [
      "\n",
      "Ты главный председатель кредитного комитета Сбербанка. Тебе даны сообщения из разговора о клиенте. Ты должен решить, выдавать кредит или нет. Твоя задача - оценить клиента с разных сторон и принять решение. Чтобы получить одобрение, заемщик должен быть \"чистым\", то есть иметь хорошую кредитная историю и ликвидный залог. Для компаний обязательна прозрачность в деятельности и налоговой отчетности.\n",
      "\n",
      "Причинами для отказа могут быть:\n",
      "* недостаточный уровень доходов и/или их непрозрачность (для компаний);\n",
      "* испорченная кредитная история;\n",
      "* стоимости залога не хватает для покрытия суммы долга;\n",
      "* наличие в прошлом негативных моментов, например, сокрытие доходов.\n",
      "\n",
      "Для того, чтобы принять решение, ты должен задавать верные вопросы другим членам комитета:\n",
      "* Кредитный менеджер. Это сотрудник, который ведет дело клиента и выступает связующим звеном между клиентом и банком. Занимается защитой клиента, подготавливает заключение по предстоящей сделке и знакомит с ним остальных участников. Его ты можешь спрашивать насчет различной информации о клиенте: его отрасли, отчетности и другого.\n",
      "* Представитель службы безопасности. Его задача – проверить, не было ли у клиента в прошлом правонарушений и проблем с законом: судимостей, связей с криминальным миром. У него обязательно нужно уточнить про иски к компании и бенефициарам, наличие негативной информации о компании/владельцах.\n",
      "* Юрист. Анализирует предоставленный пакет документов и выносит свое заключение. Отвечает за юридическую чистоту проводимой сделки. Юрист обязан присутствовать при рассмотрении любых нестандартных сделок.\n",
      "У каждого из членов комитета есть доступ к Интернету и документам клиента, подготовленным клиентом и профильными службами. У него ты обязательно должен уточнить про риски в юридическом заключении.\n",
      "Ты должен обязательно задавать вопросы указанным членам комитета, это позволит тебе вынести оценить клиента с разных сторон и принять верное решение. Спрашивай как можно больше вопросов разным у разных участников комитета.\n",
      "\n",
      "Отвечай лишь следующим образом:\n",
      "1. Если тебе требуется задать вопрос какому-то члену комитета, то пиши свой ответ как словарь вида {Член_комитета: Один Вопрос}. Ключи для членов комитета: credit = Кредитный менеджер, reputation = Представитель службы безопасности, law = Юрист. \n",
      "Примеры:\n",
      "Пример 1: {\"law\": \"Какие высокие правовые риски выявлены у клиента?\"}\n",
      "Пример 2: {\"reputation\": \"Какая негативная информация есть по бенефициарам заемщика?\"}\n",
      "Пример 3: {\"credit\": 'Какая выручка у клиента?'}\n",
      "2. Если ты увидел достаточно информации о клиенте, чтобы сформировать заключение, то возвращай словарь с ключом decision и кратким решением: {'decision': 'ok'}.\n",
      "\n",
      "Отвечай лишь указанными выше способами. Ты должен вернуть лишь один словарь в качестве ответа.\n",
      "Ты должен узнать очень много информации и опросить каждую службу не менее 2 раз. При формировании вопросов/уточнений учитывай зоны ответственности участников комитета.\n"
     ]
    }
   ],
   "source": [
    "print(prompts_dict['system_comitee_head'])"
   ]
  },
  {
   "cell_type": "code",
   "execution_count": 16,
   "id": "fd48a28d",
   "metadata": {},
   "outputs": [],
   "source": [
    "deal_info = 'Компания ООО Никомет хочет взять индивидуальный овердрафт на \\\n",
    "10 миллионов рублей сроком на 12 месяцев.'"
   ]
  },
  {
   "cell_type": "code",
   "execution_count": 17,
   "id": "c6ed3ecc",
   "metadata": {},
   "outputs": [],
   "source": [
    "from langchain_core.messages import SystemMessage, HumanMessage, AIMessage\n",
    "from langchain.prompts import PromptTemplate\n",
    "from langchain_core.output_parsers import StrOutputParser\n",
    "\n",
    "prompts_comitee_head = [\n",
    "    SystemMessage(prompts_dict['system_comitee_head']),\n",
    "    HumanMessage(deal_info)\n",
    "]"
   ]
  },
  {
   "cell_type": "code",
   "execution_count": 18,
   "id": "dc30f4a4",
   "metadata": {},
   "outputs": [
    {
     "data": {
      "text/plain": [
       "AIMessage(content='{\"credit\": \"Какой оборот у компании ООО Никомет?\"}', additional_kwargs={}, response_metadata={'token_usage': Usage(prompt_tokens=756, completion_tokens=18, total_tokens=774), 'model_name': 'GigaChat-Pro:1.0.26.15', 'finish_reason': 'stop'}, id='run-01ede378-af32-4aea-8d65-f554d4d1225b-0')"
      ]
     },
     "execution_count": 18,
     "metadata": {},
     "output_type": "execute_result"
    }
   ],
   "source": [
    "answer_llm = llm.invoke(prompts_comitee_head)\n",
    "answer_llm"
   ]
  },
  {
   "cell_type": "code",
   "execution_count": 19,
   "id": "a4564bce",
   "metadata": {},
   "outputs": [
    {
     "data": {
      "text/plain": [
       "{'credit': 'Какой оборот у компании ООО Никомет?'}"
      ]
     },
     "execution_count": 19,
     "metadata": {},
     "output_type": "execute_result"
    }
   ],
   "source": [
    "eval(answer_llm.content)"
   ]
  },
  {
   "cell_type": "markdown",
   "id": "ccc67c3e",
   "metadata": {},
   "source": [
    "### Граф"
   ]
  },
  {
   "cell_type": "markdown",
   "id": "1439f020",
   "metadata": {},
   "source": [
    "Создаем граф для общения агентов:"
   ]
  },
  {
   "cell_type": "code",
   "execution_count": 20,
   "id": "08fe2f94",
   "metadata": {},
   "outputs": [],
   "source": [
    "from typing import Annotated\n",
    "from typing_extensions import TypedDict\n",
    "from langgraph.graph import StateGraph, START, END\n",
    "from langgraph.graph.message import add_messages\n",
    "\n",
    "NUM_Q_THRESHOLD = 20\n",
    "\n",
    "class State(TypedDict):\n",
    "    messages: Annotated[list, add_messages]\n",
    "    num_qs: int = 0 # если будет слишком много вопросов, принимаем решение\n",
    "\n",
    "def comitee_head(state: State):\n",
    "    '''\n",
    "    Председатель говорит, что делать дальше\n",
    "    '''\n",
    "    # если уже было задано очень много вопросов\n",
    "    if state['num_qs'] > NUM_Q_THRESHOLD:\n",
    "        return {\"messages\": [HumanMessage(\"{'decision': 'ok'}\")]}\n",
    "    \n",
    "    return {\"messages\": [llm.invoke(state[\"messages\"])],\n",
    "            'num_qs': state['num_qs'] + 1}\n",
    "\n",
    "def router(state: State):\n",
    "    '''\n",
    "    Определяем, куда идет диалог (вопрос участнику комитета / принятие решения)\n",
    "    '''\n",
    "    comitee_head_message = state[\"messages\"][-1].content\n",
    "\n",
    "    try:\n",
    "        dict_msg = eval(comitee_head_message)\n",
    "        # определяем куда идти дальше\n",
    "        way_key = list(dict_msg.keys())[0]\n",
    "        # если есть ключ определяет ноду\n",
    "        if way_key in ['law', 'reputation', 'decision', 'credit']:\n",
    "            if way_key == 'law':\n",
    "                print_md('**Вопрос Юристу:** ' + dict_msg[way_key])\n",
    "            elif way_key == 'reputation':\n",
    "                print_md('**Вопрос Представителю Подразделения Безопасности:** ' +\n",
    "                         dict_msg[way_key])\n",
    "            elif way_key == 'credit':\n",
    "                print_md('**Вопрос Кредитному Менеджеру:** ' + \n",
    "                         dict_msg[way_key])\n",
    "            elif way_key == 'decision':\n",
    "                print_md('**Переход к формированию заключения КО**')\n",
    "            return way_key\n",
    "        # если непонятно, куда идти, принимаем решение\n",
    "        else:\n",
    "            print_md('**Переход к формированию заключения КО**')\n",
    "            return 'decision'\n",
    "    except:\n",
    "        print_md('**Переход к формированию заключения КО**')\n",
    "        return 'decision'\n",
    "    \n",
    "def ask_law(state: State):\n",
    "    '''\n",
    "    Спрашиваем Юриста\n",
    "    '''\n",
    "    query = eval(state[\"messages\"][-1].content)['law']\n",
    "    answer = agents_dict['law_member'].invoke({\"input\": query})\n",
    "    print_md('**Ответ Юриста:** ' + answer['output'])\n",
    "    return {\"messages\": [HumanMessage('Ответ Юриста: ' + answer['output'])]}\n",
    "\n",
    "def ask_reputation(state: State):\n",
    "    '''\n",
    "    Спрашиваем Безопасника\n",
    "    '''\n",
    "    query = eval(state[\"messages\"][-1].content)['reputation']\n",
    "    answer = agents_dict['reputation_member'].invoke({\"input\": query})\n",
    "    print_md('**Ответ Представителя Подразделения Безопасности:** ' + answer['output'])\n",
    "    return {\"messages\": [HumanMessage('Ответ Представителя Подразделения Безопасности: '\n",
    "                                      + answer['output'])]}\n",
    "\n",
    "def ask_credit(state: State):\n",
    "    '''\n",
    "    Спрашиваем Кредитного инспектора\n",
    "    '''\n",
    "    query = eval(state[\"messages\"][-1].content)['credit']\n",
    "    answer = agents_dict['credit_manager'].invoke({\"input\": query})\n",
    "    print_md('**Ответ Кредитного менеджера:** ' + answer['output'])\n",
    "    return {\"messages\": [HumanMessage('Ответ Кредитного менеджера: '\n",
    "                                      + answer['output'])]}\n",
    "\n",
    "def make_decision(state: State):\n",
    "    '''\n",
    "    Принимаем итоговое решение на основе всего обсуждения на комитете\n",
    "    '''\n",
    "    messages_for_desision = ([SystemMessage(prompts_dict['system_decision_making'])]\n",
    "                             + state[\"messages\"][1:-1])\n",
    "    messages_for_desision.append(HumanMessage(prompts_dict['make_conclusion_prompt']))\n",
    "    decision = llm.invoke(messages_for_desision)\n",
    "    print_md(decision.content)\n",
    "    return {\"messages\": [decision]}\n",
    "    \n",
    "\n",
    "graph_builder = StateGraph(State)\n",
    "graph_builder.add_node(\"comitee_head\", comitee_head)\n",
    "graph_builder.add_node(\"law_member\", ask_law)\n",
    "graph_builder.add_node(\"reputation_member\", ask_reputation)\n",
    "graph_builder.add_node(\"credit_manager\", ask_credit)\n",
    "graph_builder.add_node(\"make_decision\", make_decision)\n",
    "\n",
    "graph_builder.add_edge(START, \"comitee_head\")\n",
    "graph_builder.add_conditional_edges(\n",
    "    \"comitee_head\",\n",
    "    router,\n",
    "    {\"law\": \"law_member\",\n",
    "     \"reputation\": \"reputation_member\",\n",
    "     \"credit\": 'credit_manager',\n",
    "     'decision': \"make_decision\"})\n",
    "graph_builder.add_edge('law_member', \"comitee_head\")\n",
    "graph_builder.add_edge('reputation_member', \"comitee_head\")\n",
    "graph_builder.add_edge('credit_manager', \"comitee_head\")\n",
    "graph_builder.add_edge(\"make_decision\", END)\n",
    "graph = graph_builder.compile()"
   ]
  },
  {
   "cell_type": "code",
   "execution_count": 21,
   "id": "7bd18590",
   "metadata": {},
   "outputs": [
    {
     "data": {
      "image/png": "[encoded data removed]",
      "text/plain": [
       "<IPython.core.display.Image object>"
      ]
     },
     "metadata": {},
     "output_type": "display_data"
    }
   ],
   "source": [
    "from IPython.display import Image, display\n",
    "\n",
    "display(Image(graph.get_graph().draw_mermaid_png()))"
   ]
  },
  {
   "cell_type": "markdown",
   "id": "b152d7ec",
   "metadata": {},
   "source": [
    "## Симуляция Заседания Кредитного Комитета"
   ]
  },
  {
   "cell_type": "code",
   "execution_count": 24,
   "id": "6abb86c5",
   "metadata": {
    "scrolled": false
   },
   "outputs": [
    {
     "data": {
      "text/markdown": [
       "**Начало заседания Кредитного Комитета**"
      ],
      "text/plain": [
       "<IPython.core.display.Markdown object>"
      ]
     },
     "metadata": {},
     "output_type": "display_data"
    },
    {
     "data": {
      "text/markdown": [
       "**Вопрос Кредитному Менеджеру:** Какой финансовый результат у компании за последние два года?"
      ],
      "text/plain": [
       "<IPython.core.display.Markdown object>"
      ]
     },
     "metadata": {},
     "output_type": "display_data"
    },
    {
     "data": {
      "text/markdown": [
       "**Ответ Кредитного менеджера:** Финансовый результат компании за последние два года был следующим: выручка составила 450 млн рублей в 2023 году (снижение на 5% по сравнению с предыдущим годом), чистая прибыль увеличилась на 8% и достигла 25 млн рублей. EBITDA составляет 50 млн рублей. Коэффициенты текущей ликвидности и задолженности находятся в пределах нормы."
      ],
      "text/plain": [
       "<IPython.core.display.Markdown object>"
      ]
     },
     "metadata": {},
     "output_type": "display_data"
    },
    {
     "data": {
      "text/markdown": [
       "**Вопрос Юристу:** Есть ли какие-либо судебные разбирательства против компании?"
      ],
      "text/plain": [
       "<IPython.core.display.Markdown object>"
      ]
     },
     "metadata": {},
     "output_type": "display_data"
    },
    {
     "data": {
      "text/markdown": [
       "**Ответ Юриста:** Нет, согласно доступным документам, судебные разбирательства против компании отсутствуют."
      ],
      "text/plain": [
       "<IPython.core.display.Markdown object>"
      ]
     },
     "metadata": {},
     "output_type": "display_data"
    },
    {
     "data": {
      "text/markdown": [
       "**Вопрос Представителю Подразделения Безопасности:** Проверьте, пожалуйста, репутацию компании и ее владельцев."
      ],
      "text/plain": [
       "<IPython.core.display.Markdown object>"
      ]
     },
     "metadata": {},
     "output_type": "display_data"
    },
    {
     "data": {
      "text/markdown": [
       "**Ответ Представителя Подразделения Безопасности:** Я проверил информацию о репутации компании и ее владельцах. Согласно представленным документам, оба бенефициара имеют позитивную деловую репутацию и не имеют судебных исков против них. Компания успешно функционирует уже много лет и активно участвует в региональных программах по утилизации отходов и охране окружающей среды."
      ],
      "text/plain": [
       "<IPython.core.display.Markdown object>"
      ]
     },
     "metadata": {},
     "output_type": "display_data"
    },
    {
     "data": {
      "text/markdown": [
       "**Вопрос Кредитному Менеджеру:** Как компания планирует использовать средства от овердрафта?"
      ],
      "text/plain": [
       "<IPython.core.display.Markdown object>"
      ]
     },
     "metadata": {},
     "output_type": "display_data"
    },
    {
     "data": {
      "text/markdown": [
       "**Ответ Кредитного менеджера:** Компания планирует использовать средства от овердрафта для покрытия временных кассовых разрывов, возникающих при расчетах с поставщиками и выплате заработной платы сотрудникам."
      ],
      "text/plain": [
       "<IPython.core.display.Markdown object>"
      ]
     },
     "metadata": {},
     "output_type": "display_data"
    },
    {
     "data": {
      "text/markdown": [
       "**Вопрос Юристу:** Есть ли какие-либо риски в юридической части сделки?"
      ],
      "text/plain": [
       "<IPython.core.display.Markdown object>"
      ]
     },
     "metadata": {},
     "output_type": "display_data"
    },
    {
     "data": {
      "text/markdown": [
       "**Ответ Юриста:** "
      ],
      "text/plain": [
       "<IPython.core.display.Markdown object>"
      ]
     },
     "metadata": {},
     "output_type": "display_data"
    },
    {
     "data": {
      "text/markdown": [
       "**Вопрос Кредитному Менеджеру:** Какова структура собственности компании?"
      ],
      "text/plain": [
       "<IPython.core.display.Markdown object>"
      ]
     },
     "metadata": {},
     "output_type": "display_data"
    },
    {
     "data": {
      "text/markdown": [
       "**Ответ Кредитного менеджера:** Структура собственности компании следующая: 50% принадлежит Ходину Николаю Николаевичу, который является генеральным директором и соучредителем компании, а остальные 50% принадлежат Сабидко Николаю Николаевичу."
      ],
      "text/plain": [
       "<IPython.core.display.Markdown object>"
      ]
     },
     "metadata": {},
     "output_type": "display_data"
    },
    {
     "data": {
      "text/markdown": [
       "**Вопрос Представителю Подразделения Безопасности:** Есть ли у компании или ее владельцев связи с криминальными структурами?"
      ],
      "text/plain": [
       "<IPython.core.display.Markdown object>"
      ]
     },
     "metadata": {},
     "output_type": "display_data"
    },
    {
     "data": {
      "text/markdown": [
       "**Ответ Представителя Подразделения Безопасности:** У компании или ее владельцев нет связей с криминальными структурами."
      ],
      "text/plain": [
       "<IPython.core.display.Markdown object>"
      ]
     },
     "metadata": {},
     "output_type": "display_data"
    },
    {
     "data": {
      "text/markdown": [
       "**Вопрос Юристу:** Нет ли каких-либо других юридических рисков?"
      ],
      "text/plain": [
       "<IPython.core.display.Markdown object>"
      ]
     },
     "metadata": {},
     "output_type": "display_data"
    },
    {
     "data": {
      "text/markdown": [
       "**Ответ Юриста:** "
      ],
      "text/plain": [
       "<IPython.core.display.Markdown object>"
      ]
     },
     "metadata": {},
     "output_type": "display_data"
    },
    {
     "data": {
      "text/markdown": [
       "**Вопрос Кредитному Менеджеру:** Каковы условия погашения овердрафта?"
      ],
      "text/plain": [
       "<IPython.core.display.Markdown object>"
      ]
     },
     "metadata": {},
     "output_type": "display_data"
    },
    {
     "data": {
      "text/markdown": [
       "**Ответ Кредитного менеджера:** Условия погашения овердрафта предусматривают ежемесячные выплаты процентов и основного долга. Процентная ставка составляет 15% годовых. Залог оборудования обеспечивает возвратность кредитных средств."
      ],
      "text/plain": [
       "<IPython.core.display.Markdown object>"
      ]
     },
     "metadata": {},
     "output_type": "display_data"
    },
    {
     "data": {
      "text/markdown": [
       "**Вопрос Юристу:** Подтвердите, что все документы соответствуют требованиям банка."
      ],
      "text/plain": [
       "<IPython.core.display.Markdown object>"
      ]
     },
     "metadata": {},
     "output_type": "display_data"
    },
    {
     "data": {
      "text/markdown": [
       "**Ответ Юриста:** Да, все документы соответствуют требованиям банка."
      ],
      "text/plain": [
       "<IPython.core.display.Markdown object>"
      ]
     },
     "metadata": {},
     "output_type": "display_data"
    },
    {
     "data": {
      "text/markdown": [
       "**Переход к формированию заключения КО**"
      ],
      "text/plain": [
       "<IPython.core.display.Markdown object>"
      ]
     },
     "metadata": {},
     "output_type": "display_data"
    },
    {
     "data": {
      "text/markdown": [
       "1. Финансовый результат компании за последние два года показывает стабильность и рост прибыли.\n",
       "2. Отсутствие судебных разбирательств против компании свидетельствует о положительной деловой репутации.\n",
       "3. Оба бенефициара имеют позитивную деловую репутацию и не имеют судебных исков против них.\n",
       "4. Средства от овердрафта будут использованы для покрытия временных кассовых разрывов, что является разумной целью использования заемных средств.\n",
       "5. Структура собственности компании прозрачна и понятна.\n",
       "6. Отсутствуют связи с криминальными структурами.\n",
       "7. Все документы соответствуют требованиям банка.\n",
       "8. Условия погашения овердрафта являются приемлемыми и обеспечены залогом оборудования.\n",
       "\n",
       "**Решение:** Одобрить выдачу индивидуального овердрафта на сумму 10 миллионов рублей сроком на 12 месяцев."
      ],
      "text/plain": [
       "<IPython.core.display.Markdown object>"
      ]
     },
     "metadata": {},
     "output_type": "display_data"
    }
   ],
   "source": [
    "print_md('**Начало заседания Кредитного Комитета**')\n",
    "message_history = graph.invoke({'messages': prompts_comitee_head, 'num_qs': 0}, {\"recursion_limit\": 100})"
   ]
  },
  {
   "cell_type": "code",
   "execution_count": null,
   "id": "680e7798",
   "metadata": {},
   "outputs": [],
   "source": []
  }
 ],
 "metadata": {
  "kernelspec": {
   "display_name": "Python 3 (ipykernel)",
   "language": "python",
   "name": "python3"
  },
  "language_info": {
   "codemirror_mode": {
    "name": "ipython",
    "version": 3
   },
   "file_extension": ".py",
   "mimetype": "text/x-python",
   "name": "python",
   "nbconvert_exporter": "python",
   "pygments_lexer": "ipython3",
   "version": "3.9.12"
  },
  "varInspector": {
   "cols": {
    "lenName": 16,
    "lenType": 16,
    "lenVar": 40
   },
   "kernels_config": {
    "python": {
     "delete_cmd_postfix": "",
     "delete_cmd_prefix": "del ",
     "library": "var_list.py",
     "varRefreshCmd": "print(var_dic_list())"
    },
    "r": {
     "delete_cmd_postfix": ") ",
     "delete_cmd_prefix": "rm(",
     "library": "var_list.r",
     "varRefreshCmd": "cat(var_dic_list()) "
    }
   },
   "types_to_exclude": [
    "module",
    "function",
    "builtin_function_or_method",
    "instance",
    "_Feature"
   ],
   "window_display": false
  }
 },
 "nbformat": 4,
 "nbformat_minor": 5
}
